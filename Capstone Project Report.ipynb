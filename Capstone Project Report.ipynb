{
 "cells": [
  {
   "cell_type": "markdown",
   "metadata": {},
   "source": [
    "# Capstone Project Report: Battle of the Neighborhoods Week 1"
   ]
  },
  {
   "cell_type": "markdown",
   "metadata": {},
   "source": [
    "### Applied Data Science Capstone by IBM/Coursera"
   ]
  },
  {
   "cell_type": "markdown",
   "metadata": {},
   "source": [
    "## Table of Contents\n",
    "\n",
    "1. <a href=\"#item1\">Introduction / Business Problem</a>    \n",
    "2. <a href=\"#item2\">Data</a>  \n",
    "   2.1 <a href=\"#item21\">Geo-Data for the neighborhoods in Munich</a>  \n",
    "   2.2 <a href=\"#item22\">FOURSQUARE Data of fitness centers in Munich</a>  \n",
    "   2.3 <a href=\"#item23\">Munich Population Statistics - OpenData</a>   "
   ]
  },
  {
   "cell_type": "markdown",
   "metadata": {},
   "source": [
    "<a id = 'item1'></a>\n",
    "## 1. Introduction / Business Problem"
   ]
  },
  {
   "cell_type": "markdown",
   "metadata": {},
   "source": [
    "Target of this project is finding the most promising neighborhoods in Munich, Germany for opening new fitness centers.\n",
    "Stakeholders are fitness trainers who want to start their own business or big fitness companies who want to expand their business within Munich.\n",
    "The final result of this project is a single key indicator for the 25 districts of Munich which allows the stakeholders to identify the best location for their new business activities. This indicator does not only reflect the total number of existing gyms but also take into account different factors from the structure of the population in Munich (e.g. Population density, Age structure, unemployment rate, etc.)."
   ]
  },
  {
   "cell_type": "markdown",
   "metadata": {},
   "source": [
    "<a id = 'item2'></a>\n",
    "## 2. Data"
   ]
  },
  {
   "cell_type": "markdown",
   "metadata": {},
   "source": [
    "<a id = 'item21'></a>\n",
    "### 2.1 Geo-Data for the neighborhoods in Munich\n",
    "The geojson file for the Neighborhoods in Munich can be found here:\n",
    "https://gist.github.com/webtobesocial/f8c1ea64b2862c6eda8771daba4f297b"
   ]
  },
  {
   "cell_type": "markdown",
   "metadata": {},
   "source": [
    "In the next step the neighborhood names are read from the geojson file and coordinates for each neighborhood are located with geopy geolocator function. The result is a dataframe with all Neighborhoods in Munich including coordinates:"
   ]
  },
  {
   "cell_type": "markdown",
   "metadata": {},
   "source": [
    "|    NeighborhoodID | Neighborhood                                           |   Latitude |   Longitude |\n",
    "| -----------------:|:-------------------------------------------------------|-----------:|------------:|\n",
    "|                01 | Altstadt-Lehel                                         |    48.1378 |     11.5746 |\n",
    "|                02 | Ludwigsvorstadt-Isarvorstadt                           |    48.1318 |     11.5558 |\n",
    "|                03 | Maxvorstadt                                            |    48.1466 |     11.5714 |\n",
    "|                04 | Schwabing-West                                         |    48.1644 |     11.5704 |\n",
    "|                05 | Au-Haidhausen                                          |    48.1288 |     11.5905 |\n",
    "|                06 | Sendling                                               |    48.118  |     11.5391 |\n",
    "|                07 | Sendling-Westpark                                      |    48.118  |     11.5193 |\n",
    "|                08 | Schwanthalerhöhe                                       |    48.1342 |     11.539  |\n",
    "|                09 | Neuhausen-Nymphenburg                                  |    48.1542 |     11.5315 |\n",
    "|                10 | Moosach                                                |    48.1799 |     11.5106 |\n",
    "|                11 | Milbertshofen-Am Hart                                  |    48.1824 |     11.575  |\n",
    "|                12 | Schwabing-Freimann                                     |    48.1806 |     11.5918 |\n",
    "|                13 | Bogenhausen                                            |    48.1548 |     11.6335 |\n",
    "|                14 | Berg am Laim                                           |    48.1235 |     11.6335 |\n",
    "|                15 | Trudering-Riem                                         |    48.1232 |     11.6641 |\n",
    "|                16 | Ramersdorf-Perlach                                     |    48.1147 |     11.6132 |\n",
    "|                17 | Obergiesing-Fasangarten                                |    48.1112 |     11.5889 |\n",
    "|                18 | Untergiesing-Harlaching                                |    48.115  |     11.5702 |\n",
    "|                19 | Thalkirchen-Obersendling-Forstenried-Fürstenried-Solln |    48.1013 |     11.5462 |\n",
    "|                20 | Hadern                                                 |    48.1181 |     11.4818 |\n",
    "|                21 | Pasing-Obermenzing                                     |    48.1478 |     11.4607 |\n",
    "|                22 | Aubing-Lochhausen-Langwied                             |    48.1584 |     11.4141 |\n",
    "|                23 | Allach-Untermenzing                                    |    48.196  |     11.457  |\n",
    "|                24 | Feldmoching-Hasenbergl                                 |    48.2159 |     11.5333 |\n",
    "|                25 | Laim                                                   |    48.1396 |     11.5022 |"
   ]
  },
  {
   "cell_type": "markdown",
   "metadata": {},
   "source": [
    "Map of Neighborhoods in Munich:\n",
    "<img src=\"./Munich_Neighborhoods.png\" alt=\"Alt-Text\" title=\"\" />\n"
   ]
  },
  {
   "cell_type": "markdown",
   "metadata": {},
   "source": [
    "<a id = 'item22'></a>\n",
    "### 2.2 FOURSQUARE Data of fitness centers in Munich"
   ]
  },
  {
   "cell_type": "markdown",
   "metadata": {},
   "source": [
    "For this project an non-commercial free FOURSQUARE Account is used. Under this conditions the search result is limited to 50 venues per search. So the search radius has to be reduced and the number of searches have to be increased to find all Fitness Centers in Munich. Therefore a search grid with a mesh of about 1 km is created:"
   ]
  },
  {
   "cell_type": "markdown",
   "metadata": {},
   "source": [
    "Search grid for the FOURSQUARE venue search:\n",
    "![Alt-Text](./Search_Grid.png)"
   ]
  },
  {
   "cell_type": "markdown",
   "metadata": {},
   "source": [
    "The FOURSQUARE search Endpoint is executed with a variable radius around 1.5 km depending on the distance to the city center. This overlapping search ensures to find all fitness centers. Duplicate venues must be droped afterwards.\n",
    "The search is filtered to the category group *Fitness Centers*.  \n",
    "This category group also contains several subcategories which are out of scope (e.g. Yogastudio, Martial Arts, etc.). These subcategories will be excluded from the result venues afterwards."
   ]
  },
  {
   "cell_type": "markdown",
   "metadata": {},
   "source": [
    "In the next step the neighborhood is located for all venues and Fitness Centers outside of the city borders are dropped."
   ]
  },
  {
   "cell_type": "markdown",
   "metadata": {},
   "source": [
    "##### Data cleaning:\n",
    "\n",
    "+ Gyms which are belong to public schools, societies or hotels are dropped from the data by keyword search"
   ]
  },
  {
   "cell_type": "markdown",
   "metadata": {},
   "source": [
    "Fitness Centers which are for women only are also identified by keyword search but kept in the dataset."
   ]
  },
  {
   "cell_type": "markdown",
   "metadata": {},
   "source": [
    "Example Data after Cleaning including Neighborhood information:\n",
    "![Alt-Text](./Gym_Data.png)"
   ]
  },
  {
   "cell_type": "markdown",
   "metadata": {},
   "source": [
    "Map of Fitness Centers in Munich:\n",
    "![Alt-Text](./Munich_Gyms.png)\n",
    "('Women only' marked in red)"
   ]
  },
  {
   "cell_type": "markdown",
   "metadata": {},
   "source": [
    "<a id = 'item23'></a>\n",
    "### 2.3 Munich Population Statistics - OpenData"
   ]
  },
  {
   "cell_type": "markdown",
   "metadata": {},
   "source": [
    "Several population statistics from https://www.opengov-muenchen.de/dataset are used for the later clustering of Neighborhoods. The aim is to get clusters of neighborhoods with similar living conditions.  \n",
    "The different datasets are provided by the muncipality in csv format. The following datasets are loaded:\n",
    "1. [Population and Population density](https://www.opengov-muenchen.de/dataset/0be6dc92-9ca5-4ae9-8a08-ba4039f2a225/resource/3f4aea4c-a79a-4f5b-ab01-a6ad540449f0/download/indikatorenatlas1812bevoelkerungeinwohnerdichte.csv)\n",
    "2. [Average age](https://www.opengov-muenchen.de/dataset/9b072087-6098-4558-b221-01e7d119b512/resource/9177f886-7341-49d2-9bfa-15d4d8631327/download/indikatorenatlas1812bevoelkerungaltersdurchschnitt.csv)\n",
    "3. [Single-Person Households](https://www.opengov-muenchen.de/dataset/86612b72-4312-4905-a0c5-581baac650c5/resource/bfedaa2b-e096-40b4-a48a-51faff42adf3/download/indikatorenatlas1812bevoelkerungeinpersonenhaushalte.csv)\n",
    "4. [Women percentage](https://www.opengov-muenchen.de/dataset/c0ef5f11-fa60-4f5f-95cb-90ae18c8f9a6/resource/f67b2cf6-a617-4ccb-8d56-65fe14a6426b/download/indikatorenatlas1812bevoelkerungfrauenanteil.csv)\n",
    "5. [Birthrate](https://www.opengov-muenchen.de/dataset/bbeafa23-2c03-4fca-9b2e-c4b78c4ff850/resource/1ec077d4-93f1-4b64-b2a4-663a55cd7c57/download/indikatorenatlas1812bevoelkerungrohegeburtenrate.csv)\n",
    "6. [Aging index](https://www.opengov-muenchen.de/dataset/e46c1590-6000-4556-b66c-62faf5a61048/resource/fe9aeef9-3479-407c-b38f-db73a4dadf9f/download/indikatorenatlas1812bevoelkerungueberalterungsquotient.csv)\n",
    "7. [Youth index](https://www.opengov-muenchen.de/dataset/754aefa4-2e36-4e0c-b768-fa9b7d003f45/resource/81f2cede-f395-4327-aeb5-24edcdbb2bee/download/indikatorenatlas1812bevoelkerungjugendquotient.csv)\n",
    "8. [Unemployment rate](https://www.opengov-muenchen.de/dataset/0771b22f-b1e7-4480-8fe5-d641c2586f3e/resource/55a1adb0-6c06-403b-ab7f-7e6c41d18e32/download/indikatorenatlas1812arbeitsmarktarbeitslosendichte.csv)\n",
    "9. [Welfare receipients rate](https://www.opengov-muenchen.de/dataset/103f72fa-f48a-4b7d-9402-e83fc291685e/resource/921072cb-3ed2-4624-aa59-5e13a3825033/download/indikatorenatlas1812arbeitsmarktalgii-empfaengerdichteerwerbsfaehigeregelleistungsberechtigtendi.csv)\n",
    "10. [Migration background percentage](https://www.opengov-muenchen.de/dataset/cc5e9a41-6f29-458a-b8e1-103da957a333/resource/f98bf568-c84d-4f9f-b3d3-ebc985933f7b/download/indikatorenatlas1812bevoelkerungmigrationshintergrundquote.csv)\n",
    "\n",
    "Always the latest available year of data is used (2017 or 2016)."
   ]
  },
  {
   "cell_type": "markdown",
   "metadata": {},
   "source": [
    "The different files from [OpenData Munich](https://www.opengov-muenchen.de/dataset) are loaded into Pandas DataFrames and finally merged together in one big DataFrame including also the fitness center data by neighborhood."
   ]
  },
  {
   "cell_type": "markdown",
   "metadata": {},
   "source": [
    "The neigborhoods in the OpenData Files are named slightly different, therefore a mapping table has to be created in advance."
   ]
  },
  {
   "cell_type": "markdown",
   "metadata": {},
   "source": [
    "Example of the resulting DataFrame:\n",
    "\n",
    "|    NeighborhoodID | Neighborhood                      | properties.name              |   Latitude |   Longitude |   Population |   km2 |   Population_per_km2 |   Age_Average |   single_share |   women_percentage |   birthrate |   ageing_idx |   youth_idx |   unemploy_rate |   welfare_receip_rate |   immi_rate |   gym_count |   women_gym_count |\n",
    "| -----------------:|:----------------------------------|:-----------------------------|-----------:|------------:|-------------:|------:|---------------------:|--------------:|---------------:|-------------------:|------------:|-------------:|------------:|----------------:|----------------------:|------------:|------------:|------------------:|\n",
    "|                01 | 01 Altstadt - Lehel               | Altstadt-Lehel               |    48.1378 |     11.5746 |        20926 |   3.1 |                 6652 |          41.7 |           64.8 |               49.7 |        11.2 |        161.3 |        13.9 |             2.1 |                   2   |        16.4 |          19 |                 0 |\n",
    "|                02 | 02 Ludwigsvorstadt - Isarvorstadt | Ludwigsvorstadt-Isarvorstadt |    48.1318 |     11.5558 |        51632 |   4.4 |                11731 |          39   |           64.7 |               48.5 |        11.5 |        107.2 |        13.4 |             3   |                   3.5 |        16.1 |          33 |                 1 |\n",
    "|                03 | 03 Maxvorstadt                    | Maxvorstadt                  |    48.1466 |     11.5714 |        51311 |   4.3 |                11939 |          38.6 |           68.9 |               49.9 |        12.2 |        138.7 |        10.9 |             2.5 |                   2.4 |        16.7 |          24 |                 0 |\n",
    "|                04 | 04 Schwabing - West               | Schwabing-West               |    48.1644 |     11.5704 |        68265 |   4.4 |                15646 |          40.8 |           61.6 |               52.6 |        11.1 |        148.6 |        15.7 |             2.5 |                   2.7 |        18.2 |           9 |                 0 |\n",
    "|                05 | 05 Au - Haidhausen                | Au-Haidhausen                |    48.1288 |     11.5905 |        60937 |   4.2 |                14441 |          40.1 |           60.3 |               51.3 |        13.7 |        112.1 |        16.9 |             3   |                   3.4 |        17.5 |          13 |                 1 |"
   ]
  },
  {
   "cell_type": "markdown",
   "metadata": {},
   "source": [
    "Example for Open Data - Population Density:\n",
    "![Alt-Text](./Munich_Population_Density.png)"
   ]
  }
 ],
 "metadata": {
  "kernelspec": {
   "display_name": "Python 3",
   "language": "python",
   "name": "python3"
  },
  "language_info": {
   "codemirror_mode": {
    "name": "ipython",
    "version": 3
   },
   "file_extension": ".py",
   "mimetype": "text/x-python",
   "name": "python",
   "nbconvert_exporter": "python",
   "pygments_lexer": "ipython3",
   "version": "3.7.3"
  },
  "widgets": {
   "state": {},
   "version": "1.1.2"
  }
 },
 "nbformat": 4,
 "nbformat_minor": 4
}
